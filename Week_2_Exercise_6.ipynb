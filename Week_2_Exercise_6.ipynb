{
  "nbformat": 4,
  "nbformat_minor": 0,
  "metadata": {
    "accelerator": "GPU",
    "colab": {
      "name": "Week 2 - Exercise 6.ipynb",
      "provenance": [],
      "collapsed_sections": [],
      "toc_visible": true,
      "include_colab_link": true
    },
    "kernelspec": {
      "display_name": "Python 3",
      "name": "python3"
    }
  },
  "cells": [
    {
      "cell_type": "markdown",
      "metadata": {
        "id": "view-in-github",
        "colab_type": "text"
      },
      "source": [
        "<a href=\"https://colab.research.google.com/github/Philngtn/CNN_TensorFlow/blob/main/Week_2_Exercise_6.ipynb\" target=\"_parent\"><img src=\"https://colab.research.google.com/assets/colab-badge.svg\" alt=\"Open In Colab\"/></a>"
      ]
    },
    {
      "cell_type": "code",
      "metadata": {
        "id": "zX4Kg8DUTKWO"
      },
      "source": [
        "#@title Licensed under the Apache License, Version 2.0 (the \"License\");\n",
        "# you may not use this file except in compliance with the License.\n",
        "# You may obtain a copy of the License at\n",
        "#\n",
        "# https://www.apache.org/licenses/LICENSE-2.0\n",
        "#\n",
        "# Unless required by applicable law or agreed to in writing, software\n",
        "# distributed under the License is distributed on an \"AS IS\" BASIS,\n",
        "# WITHOUT WARRANTIES OR CONDITIONS OF ANY KIND, either express or implied.\n",
        "# See the License for the specific language governing permissions and\n",
        "# limitations under the License."
      ],
      "execution_count": null,
      "outputs": []
    },
    {
      "cell_type": "code",
      "metadata": {
        "id": "dn-6c02VmqiN"
      },
      "source": [
        "# In this exercise you will train a CNN on the FULL Cats-v-dogs dataset\n",
        "# This will require you doing a lot of data preprocessing because\n",
        "# the dataset isn't split into training and validation for you\n",
        "# This code block has all the required inputs\n",
        "import os\n",
        "import zipfile\n",
        "import random\n",
        "import tensorflow as tf\n",
        "from tensorflow.keras.optimizers import RMSprop\n",
        "from tensorflow.keras.preprocessing.image import ImageDataGenerator\n",
        "from shutil import copyfile"
      ],
      "execution_count": 1,
      "outputs": []
    },
    {
      "cell_type": "code",
      "metadata": {
        "id": "3sd9dQWa23aj",
        "colab": {
          "base_uri": "https://localhost:8080/"
        },
        "outputId": "0cbd18b6-ba6b-4980-ad18-31dc2a1819ee"
      },
      "source": [
        "# This code block downloads the full Cats-v-Dogs dataset and stores it as \n",
        "# cats-and-dogs.zip. It then unzips it to /tmp\n",
        "# which will create a tmp/PetImages directory containing subdirectories\n",
        "# called 'Cat' and 'Dog' (that's how the original researchers structured it)\n",
        "# If the URL doesn't work, \n",
        "# .   visit https://www.microsoft.com/en-us/download/confirmation.aspx?id=54765\n",
        "# And right click on the 'Download Manually' link to get a new URL\n",
        "\n",
        "!wget --no-check-certificate \\\n",
        "    \"https://download.microsoft.com/download/3/E/1/3E1C3F21-ECDB-4869-8368-6DEBA77B919F/kagglecatsanddogs_3367a.zip\" \\\n",
        "    -O \"/tmp/cats-and-dogs.zip\"\n",
        "\n",
        "local_zip = '/tmp/cats-and-dogs.zip'\n",
        "zip_ref = zipfile.ZipFile(local_zip, 'r')\n",
        "zip_ref.extractall('/tmp')\n",
        "zip_ref.close()\n"
      ],
      "execution_count": 2,
      "outputs": [
        {
          "output_type": "stream",
          "text": [
            "--2021-06-05 17:23:56--  https://download.microsoft.com/download/3/E/1/3E1C3F21-ECDB-4869-8368-6DEBA77B919F/kagglecatsanddogs_3367a.zip\n",
            "Resolving download.microsoft.com (download.microsoft.com)... 104.74.20.142, 2600:140e:6:b8d::e59, 2600:140e:6:ba1::e59\n",
            "Connecting to download.microsoft.com (download.microsoft.com)|104.74.20.142|:443... connected.\n",
            "HTTP request sent, awaiting response... 200 OK\n",
            "Length: 824894548 (787M) [application/octet-stream]\n",
            "Saving to: ‘/tmp/cats-and-dogs.zip’\n",
            "\n",
            "/tmp/cats-and-dogs. 100%[===================>] 786.68M   103MB/s    in 7.9s    \n",
            "\n",
            "2021-06-05 17:24:04 (100 MB/s) - ‘/tmp/cats-and-dogs.zip’ saved [824894548/824894548]\n",
            "\n"
          ],
          "name": "stdout"
        }
      ]
    },
    {
      "cell_type": "code",
      "metadata": {
        "id": "gi3yD62a6X3S",
        "colab": {
          "base_uri": "https://localhost:8080/"
        },
        "outputId": "42e70423-e609-4c54-d80d-1968bce66595"
      },
      "source": [
        "print(len(os.listdir('/tmp/PetImages/Cat/')))\n",
        "print(len(os.listdir('/tmp/PetImages/Dog/')))\n",
        "\n",
        "# Expected Output:\n",
        "# 12501\n",
        "# 12501"
      ],
      "execution_count": 3,
      "outputs": [
        {
          "output_type": "stream",
          "text": [
            "12501\n",
            "12501\n"
          ],
          "name": "stdout"
        }
      ]
    },
    {
      "cell_type": "code",
      "metadata": {
        "id": "F-QkLjxpmyK2"
      },
      "source": [
        "# Use os.mkdir to create your directories\n",
        "# You will need a directory for cats-v-dogs, and subdirectories for training\n",
        "# and testing. These in turn will need subdirectories for 'cats' and 'dogs'\n",
        "try:\n",
        "    #YOUR CODE GOES HERE\n",
        "    \n",
        "    os.system(\"rm -rf /tmp/cats-v-dogs/\")\n",
        "    os.mkdir('/tmp/cats-v-dogs/')\n",
        "    os.mkdir('/tmp/cats-v-dogs/training/')\n",
        "    os.mkdir('/tmp/cats-v-dogs/testing/') \n",
        "    \n",
        "    os.mkdir('/tmp/cats-v-dogs/training/cats/')\n",
        "    os.mkdir('/tmp/cats-v-dogs/testing/cats/')\n",
        "\n",
        "    os.mkdir('/tmp/cats-v-dogs/training/dogs/')\n",
        "    os.mkdir('/tmp/cats-v-dogs/testing/dogs/')\n",
        "\n",
        "except OSError:\n",
        "    pass"
      ],
      "execution_count": 10,
      "outputs": []
    },
    {
      "cell_type": "code",
      "metadata": {
        "id": "zvSODo0f9LaU",
        "colab": {
          "base_uri": "https://localhost:8080/"
        },
        "outputId": "275d3172-2443-4ab8-c34f-f4a6ee764aaa"
      },
      "source": [
        "# Write a python function called split_data which takes\n",
        "# a SOURCE directory containing the files\n",
        "# a TRAINING directory that a portion of the files will be copied to\n",
        "# a TESTING directory that a portion of the files will be copie to\n",
        "# a SPLIT SIZE to determine the portion\n",
        "# The files should also be randomized, so that the training set is a random\n",
        "# X% of the files, and the test set is the remaining files\n",
        "# SO, for example, if SOURCE is PetImages/Cat, and SPLIT SIZE is .9\n",
        "# Then 90% of the images in PetImages/Cat will be copied to the TRAINING dir\n",
        "# and 10% of the images will be copied to the TESTING dir\n",
        "# Also -- All images should be checked, and if they have a zero file length,\n",
        "# they will not be copied over\n",
        "#\n",
        "# os.listdir(DIRECTORY) gives you a listing of the contents of that directory\n",
        "# os.path.getsize(PATH) gives you the size of the file\n",
        "# copyfile(source, destination) copies a file from source to destination\n",
        "# random.sample(list, len(list)) shuffles a list\n",
        "def split_data(SOURCE, TRAINING, TESTING, SPLIT_SIZE):\n",
        "# YOUR CODE STARTS HERE\n",
        "  base_dir = os.listdir(SOURCE)\n",
        "\n",
        "  random_training_files = random.sample(base_dir, int(len(base_dir)*SPLIT_SIZE) + 1)\n",
        "  testing_files = [x for x in base_dir if x not in random_training_files]\n",
        "\n",
        "\n",
        "\n",
        "  for i in random_training_files:\n",
        "    copyfile_path = os.path.join(SOURCE,i)\n",
        "    if os.path.getsize(copyfile_path) == 0:\n",
        "       print(str(i) + \" is zero length, so ignoring\")\n",
        "    else:\n",
        "       destination_path = os.path.join(TRAINING,i)\n",
        "       copyfile(copyfile_path, destination_path)\n",
        "\n",
        "  for i in testing_files:\n",
        "    copyfile_path = os.path.join(SOURCE,i)\n",
        "    if os.path.getsize(copyfile_path) == 0:\n",
        "       print(str(i) + \" is zero length, so ignoring\")\n",
        "    else:\n",
        "       destination_path = os.path.join(TESTING,i)\n",
        "       copyfile(copyfile_path, destination_path)\n",
        "\n",
        "  # print(len(os.listdir(TRAINING)))\n",
        "  # print(len(os.listdir(TESTING)))\n",
        "\n",
        "# YOUR CODE ENDS HERE\n",
        "\n",
        "\n",
        "CAT_SOURCE_DIR = \"/tmp/PetImages/Cat/\"\n",
        "TRAINING_CATS_DIR = \"/tmp/cats-v-dogs/training/cats/\"\n",
        "TESTING_CATS_DIR = \"/tmp/cats-v-dogs/testing/cats/\"\n",
        "DOG_SOURCE_DIR = \"/tmp/PetImages/Dog/\"\n",
        "TRAINING_DOGS_DIR = \"/tmp/cats-v-dogs/training/dogs/\"\n",
        "TESTING_DOGS_DIR = \"/tmp/cats-v-dogs/testing/dogs/\"\n",
        "\n",
        "split_size = .9\n",
        "split_data(CAT_SOURCE_DIR, TRAINING_CATS_DIR, TESTING_CATS_DIR, split_size)\n",
        "split_data(DOG_SOURCE_DIR, TRAINING_DOGS_DIR, TESTING_DOGS_DIR, split_size)\n",
        "\n",
        "# Expected output\n",
        "# 666.jpg is zero length, so ignoring\n",
        "# 11702.jpg is zero length, so ignoring"
      ],
      "execution_count": 11,
      "outputs": [
        {
          "output_type": "stream",
          "text": [
            "666.jpg is zero length, so ignoring\n",
            "11702.jpg is zero length, so ignoring\n"
          ],
          "name": "stdout"
        }
      ]
    },
    {
      "cell_type": "code",
      "metadata": {
        "id": "luthalB76ufC",
        "colab": {
          "base_uri": "https://localhost:8080/"
        },
        "outputId": "21e439da-d43c-4a8b-8fa2-168d3db1436e"
      },
      "source": [
        "print(len(os.listdir('/tmp/cats-v-dogs/training/cats/')))\n",
        "print(len(os.listdir('/tmp/cats-v-dogs/training/dogs/')))\n",
        "print(len(os.listdir('/tmp/cats-v-dogs/testing/cats/')))\n",
        "print(len(os.listdir('/tmp/cats-v-dogs/testing/dogs/')))\n",
        "\n",
        "# Expected output:\n",
        "# 11250\n",
        "# 11250\n",
        "# 1250\n",
        "# 1250"
      ],
      "execution_count": 12,
      "outputs": [
        {
          "output_type": "stream",
          "text": [
            "11250\n",
            "11250\n",
            "1250\n",
            "1250\n"
          ],
          "name": "stdout"
        }
      ]
    },
    {
      "cell_type": "code",
      "metadata": {
        "id": "-BQrav4anTmj",
        "colab": {
          "base_uri": "https://localhost:8080/"
        },
        "outputId": "b46ca864-7401-40cf-b76b-4aafecdd013c"
      },
      "source": [
        "# DEFINE A KERAS MODEL TO CLASSIFY CATS V DOGS\n",
        "# USE AT LEAST 3 CONVOLUTION LAYERS\n",
        "model = tf.keras.models.Sequential([\n",
        "# YOUR CODE HERE\n",
        "    tf.keras.layers.Conv2D(32, (3,3), activation='relu', input_shape=(300, 300, 3)),\n",
        "    tf.keras.layers.MaxPooling2D(2,2),\n",
        "\n",
        "    tf.keras.layers.Conv2D(64, (3,3), activation='relu'),\n",
        "    tf.keras.layers.MaxPooling2D(2,2),\n",
        "\n",
        "    tf.keras.layers.Conv2D(64, (3,3), activation='relu'),\n",
        "    tf.keras.layers.MaxPooling2D(2,2), \n",
        "\n",
        "    tf.keras.layers.Conv2D(64, (3,3), activation='relu'),\n",
        "    tf.keras.layers.MaxPooling2D(2,2), \n",
        "    \n",
        "    tf.keras.layers.Flatten(), \n",
        "    # 512 neuron hidden layer\n",
        "    tf.keras.layers.Dense(512, activation='relu'), \n",
        "\n",
        "    tf.keras.layers.Dropout(0.2),\n",
        "\n",
        "    tf.keras.layers.Dense(256, activation='relu'),\n",
        "\n",
        "    tf.keras.layers.Dropout(0.2),\n",
        "    # Only 1 output neuron. It will contain a value from 0-1 where 0 for 1 class ('cats') and 1 for the other ('dogs')\n",
        "    tf.keras.layers.Dense(1, activation='sigmoid')  \n",
        "])\n",
        "\n",
        "model.summary()\n",
        "#RMSprop(learning_rate=0.001)\n",
        "model.compile(optimizer='adam', loss='binary_crossentropy', metrics=['accuracy'])"
      ],
      "execution_count": 13,
      "outputs": [
        {
          "output_type": "stream",
          "text": [
            "Model: \"sequential_1\"\n",
            "_________________________________________________________________\n",
            "Layer (type)                 Output Shape              Param #   \n",
            "=================================================================\n",
            "conv2d_4 (Conv2D)            (None, 298, 298, 32)      896       \n",
            "_________________________________________________________________\n",
            "max_pooling2d_4 (MaxPooling2 (None, 149, 149, 32)      0         \n",
            "_________________________________________________________________\n",
            "conv2d_5 (Conv2D)            (None, 147, 147, 64)      18496     \n",
            "_________________________________________________________________\n",
            "max_pooling2d_5 (MaxPooling2 (None, 73, 73, 64)        0         \n",
            "_________________________________________________________________\n",
            "conv2d_6 (Conv2D)            (None, 71, 71, 64)        36928     \n",
            "_________________________________________________________________\n",
            "max_pooling2d_6 (MaxPooling2 (None, 35, 35, 64)        0         \n",
            "_________________________________________________________________\n",
            "conv2d_7 (Conv2D)            (None, 33, 33, 64)        36928     \n",
            "_________________________________________________________________\n",
            "max_pooling2d_7 (MaxPooling2 (None, 16, 16, 64)        0         \n",
            "_________________________________________________________________\n",
            "flatten_1 (Flatten)          (None, 16384)             0         \n",
            "_________________________________________________________________\n",
            "dense_3 (Dense)              (None, 512)               8389120   \n",
            "_________________________________________________________________\n",
            "dropout_2 (Dropout)          (None, 512)               0         \n",
            "_________________________________________________________________\n",
            "dense_4 (Dense)              (None, 256)               131328    \n",
            "_________________________________________________________________\n",
            "dropout_3 (Dropout)          (None, 256)               0         \n",
            "_________________________________________________________________\n",
            "dense_5 (Dense)              (None, 1)                 257       \n",
            "=================================================================\n",
            "Total params: 8,613,953\n",
            "Trainable params: 8,613,953\n",
            "Non-trainable params: 0\n",
            "_________________________________________________________________\n"
          ],
          "name": "stdout"
        }
      ]
    },
    {
      "cell_type": "code",
      "metadata": {
        "id": "mlNjoJ5D61N6",
        "colab": {
          "base_uri": "https://localhost:8080/"
        },
        "outputId": "38bdf0b9-42d5-4a9d-920e-f118a6ce6e35"
      },
      "source": [
        "TRAINING_DIR = \"/tmp/cats-v-dogs/training/\" #YOUR CODE HERE\n",
        "train_datagen =  ImageDataGenerator( rescale = 1.0/255.0,\n",
        "                                     rotation_range = 30,\n",
        "                                     width_shift_range= 0.2,\n",
        "                                     height_shift_range = 0.2,\n",
        "                                     shear_range = 0.2,\n",
        "                                     zoom_range = 0.2,\n",
        "                                     horizontal_flip = True,\n",
        "                                     fill_mode = \"nearest\")\n",
        "\n",
        "train_generator = train_datagen.flow_from_directory(TRAINING_DIR,\n",
        "                                                    batch_size= 256, \n",
        "                                                    class_mode='binary',\n",
        "                                                    target_size=(300, 300))  \n",
        "\n",
        "VALIDATION_DIR = \"/tmp/cats-v-dogs/testing\"\n",
        "validation_datagen =   ImageDataGenerator( rescale = 1.0/255.,\n",
        "                                          rotation_range = 30,\n",
        "                                          width_shift_range= 0.2,\n",
        "                                          height_shift_range = 0.2,\n",
        "                                          shear_range = 0.2,\n",
        "                                          zoom_range = 0.2,\n",
        "                                          horizontal_flip = True,\n",
        "                                          fill_mode = \"nearest\")\n",
        "\n",
        "validation_generator = train_datagen.flow_from_directory(VALIDATION_DIR,\n",
        "                                                    batch_size= 32, \n",
        "                                                    class_mode='binary',\n",
        "                                                    target_size=(300, 300))  \n",
        "# Expected Output:\n",
        "# Found 22498 images belonging to 2 classes.\n",
        "# Found 2500 images belonging to 2 classes."
      ],
      "execution_count": 14,
      "outputs": [
        {
          "output_type": "stream",
          "text": [
            "Found 22498 images belonging to 2 classes.\n",
            "Found 2500 images belonging to 2 classes.\n"
          ],
          "name": "stdout"
        }
      ]
    },
    {
      "cell_type": "code",
      "metadata": {
        "id": "KyS4n53w7DxC",
        "colab": {
          "base_uri": "https://localhost:8080/"
        },
        "outputId": "04af6ab3-88c7-484f-9bd6-fa6d59d578d0"
      },
      "source": [
        "class myCallback(tf.keras.callbacks.Callback):\n",
        "  def on_epoch_end(self, epoch, logs={}):\n",
        "    accuracy = 0.95\n",
        "    val_accuracy = 0.95\n",
        "    if(logs.get('accuracy') is not None and logs.get('accuracy') > accuracy and logs.get('val_accuracy') > val_accuracy):\n",
        "      print(\"\\nReached \" + str(accuracy*100) + \"% accuracy so cancelling training!\")\n",
        "      print(\"\\nReached \" + str(val_accuracy*100) + \"% valication accuracy so cancelling training!\")\n",
        "      self.model.stop_training = True\n",
        "\n",
        "\n",
        "callbacks = myCallback()\n",
        "\n",
        "history = model.fit(train_generator,\n",
        "                              epochs= 300,\n",
        "                              steps_per_epoch = int(11250/256),\n",
        "                              verbose=1,\n",
        "                              validation_data=validation_generator,\n",
        "                              validation_steps= int(1250/32) ,\n",
        "                              callbacks=[callbacks])\n",
        "\n",
        "# The expectation here is that the model will train, and that accuracy will be > 95% on both training and validation\n",
        "# i.e. acc:A1 and val_acc:A2 will be visible, and both A1 and A2 will be > .9"
      ],
      "execution_count": 16,
      "outputs": [
        {
          "output_type": "stream",
          "text": [
            "Epoch 1/300\n",
            "11/43 [======>.......................] - ETA: 2:28 - loss: 0.7452 - accuracy: 0.5128"
          ],
          "name": "stdout"
        },
        {
          "output_type": "stream",
          "text": [
            "/usr/local/lib/python3.7/dist-packages/PIL/TiffImagePlugin.py:770: UserWarning: Possibly corrupt EXIF data.  Expecting to read 32 bytes but only got 0. Skipping tag 270\n",
            "  \" Skipping tag %s\" % (size, len(data), tag)\n",
            "/usr/local/lib/python3.7/dist-packages/PIL/TiffImagePlugin.py:770: UserWarning: Possibly corrupt EXIF data.  Expecting to read 5 bytes but only got 0. Skipping tag 271\n",
            "  \" Skipping tag %s\" % (size, len(data), tag)\n",
            "/usr/local/lib/python3.7/dist-packages/PIL/TiffImagePlugin.py:770: UserWarning: Possibly corrupt EXIF data.  Expecting to read 8 bytes but only got 0. Skipping tag 272\n",
            "  \" Skipping tag %s\" % (size, len(data), tag)\n",
            "/usr/local/lib/python3.7/dist-packages/PIL/TiffImagePlugin.py:770: UserWarning: Possibly corrupt EXIF data.  Expecting to read 8 bytes but only got 0. Skipping tag 282\n",
            "  \" Skipping tag %s\" % (size, len(data), tag)\n",
            "/usr/local/lib/python3.7/dist-packages/PIL/TiffImagePlugin.py:770: UserWarning: Possibly corrupt EXIF data.  Expecting to read 8 bytes but only got 0. Skipping tag 283\n",
            "  \" Skipping tag %s\" % (size, len(data), tag)\n",
            "/usr/local/lib/python3.7/dist-packages/PIL/TiffImagePlugin.py:770: UserWarning: Possibly corrupt EXIF data.  Expecting to read 20 bytes but only got 0. Skipping tag 306\n",
            "  \" Skipping tag %s\" % (size, len(data), tag)\n",
            "/usr/local/lib/python3.7/dist-packages/PIL/TiffImagePlugin.py:770: UserWarning: Possibly corrupt EXIF data.  Expecting to read 48 bytes but only got 0. Skipping tag 532\n",
            "  \" Skipping tag %s\" % (size, len(data), tag)\n",
            "/usr/local/lib/python3.7/dist-packages/PIL/TiffImagePlugin.py:788: UserWarning: Corrupt EXIF data.  Expecting to read 2 bytes but only got 0. \n",
            "  warnings.warn(str(msg))\n"
          ],
          "name": "stderr"
        },
        {
          "output_type": "stream",
          "text": [
            "43/43 [==============================] - 258s 6s/step - loss: 0.7012 - accuracy: 0.5344 - val_loss: 0.6599 - val_accuracy: 0.6066\n",
            "Epoch 2/300\n",
            "43/43 [==============================] - 232s 5s/step - loss: 0.6570 - accuracy: 0.5910 - val_loss: 0.6477 - val_accuracy: 0.6042\n",
            "Epoch 3/300\n",
            "43/43 [==============================] - 232s 5s/step - loss: 0.6139 - accuracy: 0.6573 - val_loss: 0.6212 - val_accuracy: 0.6651\n",
            "Epoch 4/300\n",
            "43/43 [==============================] - 229s 5s/step - loss: 0.5930 - accuracy: 0.6812 - val_loss: 0.5763 - val_accuracy: 0.7107\n",
            "Epoch 5/300\n",
            "43/43 [==============================] - 229s 5s/step - loss: 0.5628 - accuracy: 0.7030 - val_loss: 0.5452 - val_accuracy: 0.7284\n",
            "Epoch 6/300\n",
            "43/43 [==============================] - 232s 5s/step - loss: 0.5481 - accuracy: 0.7212 - val_loss: 0.5414 - val_accuracy: 0.7155\n",
            "Epoch 7/300\n",
            "43/43 [==============================] - 228s 5s/step - loss: 0.5338 - accuracy: 0.7293 - val_loss: 0.5692 - val_accuracy: 0.6955\n",
            "Epoch 8/300\n",
            "43/43 [==============================] - 229s 5s/step - loss: 0.5252 - accuracy: 0.7354 - val_loss: 0.4893 - val_accuracy: 0.7660\n",
            "Epoch 9/300\n",
            "43/43 [==============================] - 228s 5s/step - loss: 0.5128 - accuracy: 0.7447 - val_loss: 0.4770 - val_accuracy: 0.7700\n",
            "Epoch 10/300\n",
            "43/43 [==============================] - 231s 5s/step - loss: 0.4982 - accuracy: 0.7601 - val_loss: 0.4395 - val_accuracy: 0.7877\n",
            "Epoch 11/300\n",
            "43/43 [==============================] - 229s 5s/step - loss: 0.4807 - accuracy: 0.7679 - val_loss: 0.4747 - val_accuracy: 0.7708\n",
            "Epoch 12/300\n",
            "43/43 [==============================] - 230s 5s/step - loss: 0.4665 - accuracy: 0.7825 - val_loss: 0.4404 - val_accuracy: 0.7933\n",
            "Epoch 13/300\n",
            "43/43 [==============================] - 231s 5s/step - loss: 0.4536 - accuracy: 0.7894 - val_loss: 0.4405 - val_accuracy: 0.7941\n",
            "Epoch 14/300\n",
            "43/43 [==============================] - 228s 5s/step - loss: 0.4476 - accuracy: 0.7914 - val_loss: 0.4512 - val_accuracy: 0.7780\n",
            "Epoch 15/300\n",
            "43/43 [==============================] - 240s 6s/step - loss: 0.4422 - accuracy: 0.7924 - val_loss: 0.4289 - val_accuracy: 0.8037\n",
            "Epoch 16/300\n",
            "43/43 [==============================] - 236s 5s/step - loss: 0.4263 - accuracy: 0.8012 - val_loss: 0.3991 - val_accuracy: 0.8301\n",
            "Epoch 17/300\n",
            "43/43 [==============================] - 234s 5s/step - loss: 0.4236 - accuracy: 0.8047 - val_loss: 0.4242 - val_accuracy: 0.8005\n",
            "Epoch 18/300\n",
            "43/43 [==============================] - 232s 5s/step - loss: 0.4072 - accuracy: 0.8176 - val_loss: 0.4158 - val_accuracy: 0.8053\n",
            "Epoch 19/300\n",
            "43/43 [==============================] - 227s 5s/step - loss: 0.3992 - accuracy: 0.8180 - val_loss: 0.4118 - val_accuracy: 0.8061\n",
            "Epoch 20/300\n",
            "43/43 [==============================] - 224s 5s/step - loss: 0.4061 - accuracy: 0.8134 - val_loss: 0.3565 - val_accuracy: 0.8502\n",
            "Epoch 21/300\n",
            "43/43 [==============================] - 224s 5s/step - loss: 0.3650 - accuracy: 0.8357 - val_loss: 0.3444 - val_accuracy: 0.8526\n",
            "Epoch 22/300\n",
            "43/43 [==============================] - 227s 5s/step - loss: 0.3644 - accuracy: 0.8392 - val_loss: 0.3440 - val_accuracy: 0.8534\n",
            "Epoch 23/300\n",
            "43/43 [==============================] - 225s 5s/step - loss: 0.3723 - accuracy: 0.8335 - val_loss: 0.3917 - val_accuracy: 0.8189\n",
            "Epoch 24/300\n",
            "43/43 [==============================] - 225s 5s/step - loss: 0.3502 - accuracy: 0.8457 - val_loss: 0.3289 - val_accuracy: 0.8590\n",
            "Epoch 25/300\n",
            "43/43 [==============================] - 232s 5s/step - loss: 0.3328 - accuracy: 0.8520 - val_loss: 0.3164 - val_accuracy: 0.8662\n",
            "Epoch 26/300\n",
            "43/43 [==============================] - 252s 6s/step - loss: 0.3368 - accuracy: 0.8541 - val_loss: 0.3289 - val_accuracy: 0.8566\n",
            "Epoch 27/300\n",
            "43/43 [==============================] - 255s 6s/step - loss: 0.3418 - accuracy: 0.8527 - val_loss: 0.3010 - val_accuracy: 0.8598\n",
            "Epoch 28/300\n",
            "43/43 [==============================] - 245s 6s/step - loss: 0.3264 - accuracy: 0.8582 - val_loss: 0.2941 - val_accuracy: 0.8766\n",
            "Epoch 29/300\n",
            "43/43 [==============================] - 243s 6s/step - loss: 0.3027 - accuracy: 0.8700 - val_loss: 0.3265 - val_accuracy: 0.8534\n",
            "Epoch 30/300\n",
            "43/43 [==============================] - 241s 6s/step - loss: 0.3213 - accuracy: 0.8614 - val_loss: 0.2932 - val_accuracy: 0.8790\n",
            "Epoch 31/300\n",
            "43/43 [==============================] - 267s 6s/step - loss: 0.3021 - accuracy: 0.8674 - val_loss: 0.2887 - val_accuracy: 0.8718\n",
            "Epoch 32/300\n",
            "43/43 [==============================] - 240s 6s/step - loss: 0.2997 - accuracy: 0.8733 - val_loss: 0.2852 - val_accuracy: 0.8830\n",
            "Epoch 33/300\n",
            "43/43 [==============================] - 240s 6s/step - loss: 0.2936 - accuracy: 0.8754 - val_loss: 0.3189 - val_accuracy: 0.8606\n",
            "Epoch 34/300\n",
            "43/43 [==============================] - 242s 6s/step - loss: 0.3037 - accuracy: 0.8722 - val_loss: 0.2615 - val_accuracy: 0.8950\n",
            "Epoch 35/300\n",
            "43/43 [==============================] - 254s 6s/step - loss: 0.2717 - accuracy: 0.8863 - val_loss: 0.2996 - val_accuracy: 0.8726\n",
            "Epoch 36/300\n",
            "43/43 [==============================] - 232s 5s/step - loss: 0.2823 - accuracy: 0.8791 - val_loss: 0.2594 - val_accuracy: 0.8918\n",
            "Epoch 37/300\n",
            "43/43 [==============================] - 232s 5s/step - loss: 0.2679 - accuracy: 0.8873 - val_loss: 0.2403 - val_accuracy: 0.8934\n",
            "Epoch 38/300\n",
            "43/43 [==============================] - 232s 5s/step - loss: 0.2675 - accuracy: 0.8844 - val_loss: 0.2602 - val_accuracy: 0.8918\n",
            "Epoch 39/300\n",
            "43/43 [==============================] - 232s 5s/step - loss: 0.2609 - accuracy: 0.8870 - val_loss: 0.2724 - val_accuracy: 0.8894\n",
            "Epoch 40/300\n",
            "43/43 [==============================] - 233s 5s/step - loss: 0.2481 - accuracy: 0.8950 - val_loss: 0.2590 - val_accuracy: 0.8870\n",
            "Epoch 41/300\n",
            "43/43 [==============================] - 232s 5s/step - loss: 0.2580 - accuracy: 0.8913 - val_loss: 0.2214 - val_accuracy: 0.9030\n",
            "Epoch 42/300\n",
            "43/43 [==============================] - 231s 5s/step - loss: 0.2353 - accuracy: 0.9013 - val_loss: 0.2435 - val_accuracy: 0.8934\n",
            "Epoch 43/300\n",
            "43/43 [==============================] - 228s 5s/step - loss: 0.2463 - accuracy: 0.8959 - val_loss: 0.2704 - val_accuracy: 0.8862\n",
            "Epoch 44/300\n",
            "43/43 [==============================] - 231s 5s/step - loss: 0.2451 - accuracy: 0.8964 - val_loss: 0.1993 - val_accuracy: 0.9223\n",
            "Epoch 45/300\n",
            "43/43 [==============================] - 233s 5s/step - loss: 0.2332 - accuracy: 0.9051 - val_loss: 0.2500 - val_accuracy: 0.8982\n",
            "Epoch 46/300\n",
            "43/43 [==============================] - 231s 5s/step - loss: 0.2277 - accuracy: 0.9018 - val_loss: 0.2287 - val_accuracy: 0.9046\n",
            "Epoch 47/300\n",
            "43/43 [==============================] - 233s 5s/step - loss: 0.2168 - accuracy: 0.9110 - val_loss: 0.2101 - val_accuracy: 0.9183\n",
            "Epoch 48/300\n",
            "43/43 [==============================] - 226s 5s/step - loss: 0.2181 - accuracy: 0.9084 - val_loss: 0.2205 - val_accuracy: 0.9046\n",
            "Epoch 49/300\n",
            "43/43 [==============================] - 228s 5s/step - loss: 0.2051 - accuracy: 0.9129 - val_loss: 0.1965 - val_accuracy: 0.9199\n",
            "Epoch 50/300\n",
            "43/43 [==============================] - 227s 5s/step - loss: 0.2298 - accuracy: 0.9026 - val_loss: 0.2327 - val_accuracy: 0.9062\n",
            "Epoch 51/300\n",
            "43/43 [==============================] - 227s 5s/step - loss: 0.2130 - accuracy: 0.9122 - val_loss: 0.2209 - val_accuracy: 0.9006\n",
            "Epoch 52/300\n",
            "43/43 [==============================] - 228s 5s/step - loss: 0.2174 - accuracy: 0.9098 - val_loss: 0.2218 - val_accuracy: 0.9095\n",
            "Epoch 53/300\n",
            "43/43 [==============================] - 229s 5s/step - loss: 0.2031 - accuracy: 0.9160 - val_loss: 0.2068 - val_accuracy: 0.9119\n",
            "Epoch 54/300\n",
            "43/43 [==============================] - 226s 5s/step - loss: 0.2072 - accuracy: 0.9128 - val_loss: 0.1837 - val_accuracy: 0.9183\n",
            "Epoch 55/300\n",
            "43/43 [==============================] - 225s 5s/step - loss: 0.1882 - accuracy: 0.9201 - val_loss: 0.2100 - val_accuracy: 0.9054\n",
            "Epoch 56/300\n",
            "43/43 [==============================] - 227s 5s/step - loss: 0.1921 - accuracy: 0.9207 - val_loss: 0.1966 - val_accuracy: 0.9183\n",
            "Epoch 57/300\n",
            "43/43 [==============================] - 227s 5s/step - loss: 0.1925 - accuracy: 0.9218 - val_loss: 0.2057 - val_accuracy: 0.9143\n",
            "Epoch 58/300\n",
            "43/43 [==============================] - 224s 5s/step - loss: 0.1858 - accuracy: 0.9245 - val_loss: 0.2116 - val_accuracy: 0.9151\n",
            "Epoch 59/300\n",
            "43/43 [==============================] - 220s 5s/step - loss: 0.1854 - accuracy: 0.9214 - val_loss: 0.1781 - val_accuracy: 0.9231\n",
            "Epoch 60/300\n",
            "43/43 [==============================] - 220s 5s/step - loss: 0.1808 - accuracy: 0.9254 - val_loss: 0.2120 - val_accuracy: 0.9167\n",
            "Epoch 61/300\n",
            "43/43 [==============================] - 220s 5s/step - loss: 0.1872 - accuracy: 0.9217 - val_loss: 0.2494 - val_accuracy: 0.9046\n",
            "Epoch 62/300\n",
            "43/43 [==============================] - 220s 5s/step - loss: 0.1873 - accuracy: 0.9212 - val_loss: 0.1936 - val_accuracy: 0.9255\n",
            "Epoch 63/300\n",
            "43/43 [==============================] - 219s 5s/step - loss: 0.1772 - accuracy: 0.9273 - val_loss: 0.1831 - val_accuracy: 0.9279\n",
            "Epoch 64/300\n",
            "43/43 [==============================] - 219s 5s/step - loss: 0.1750 - accuracy: 0.9251 - val_loss: 0.1911 - val_accuracy: 0.9231\n",
            "Epoch 65/300\n",
            "43/43 [==============================] - 218s 5s/step - loss: 0.1762 - accuracy: 0.9279 - val_loss: 0.1848 - val_accuracy: 0.9247\n",
            "Epoch 66/300\n",
            "43/43 [==============================] - 218s 5s/step - loss: 0.1771 - accuracy: 0.9257 - val_loss: 0.1876 - val_accuracy: 0.9215\n",
            "Epoch 67/300\n",
            "43/43 [==============================] - 220s 5s/step - loss: 0.1740 - accuracy: 0.9282 - val_loss: 0.2026 - val_accuracy: 0.9127\n",
            "Epoch 68/300\n",
            "43/43 [==============================] - 224s 5s/step - loss: 0.1883 - accuracy: 0.9203 - val_loss: 0.1714 - val_accuracy: 0.9239\n",
            "Epoch 69/300\n",
            "43/43 [==============================] - 238s 6s/step - loss: 0.1773 - accuracy: 0.9258 - val_loss: 0.1932 - val_accuracy: 0.9223\n",
            "Epoch 70/300\n",
            "43/43 [==============================] - 226s 5s/step - loss: 0.1693 - accuracy: 0.9282 - val_loss: 0.2177 - val_accuracy: 0.9095\n",
            "Epoch 71/300\n",
            "43/43 [==============================] - 226s 5s/step - loss: 0.1821 - accuracy: 0.9246 - val_loss: 0.1875 - val_accuracy: 0.9239\n",
            "Epoch 72/300\n",
            "43/43 [==============================] - 226s 5s/step - loss: 0.1737 - accuracy: 0.9267 - val_loss: 0.2008 - val_accuracy: 0.9255\n",
            "Epoch 73/300\n",
            "43/43 [==============================] - 226s 5s/step - loss: 0.1686 - accuracy: 0.9321 - val_loss: 0.1886 - val_accuracy: 0.9223\n",
            "Epoch 74/300\n",
            "43/43 [==============================] - 225s 5s/step - loss: 0.1725 - accuracy: 0.9279 - val_loss: 0.1859 - val_accuracy: 0.9231\n",
            "Epoch 75/300\n",
            "43/43 [==============================] - 230s 5s/step - loss: 0.1569 - accuracy: 0.9378 - val_loss: 0.1563 - val_accuracy: 0.9383\n",
            "Epoch 76/300\n",
            "43/43 [==============================] - 230s 5s/step - loss: 0.1692 - accuracy: 0.9291 - val_loss: 0.1709 - val_accuracy: 0.9311\n",
            "Epoch 77/300\n",
            "43/43 [==============================] - 232s 5s/step - loss: 0.1619 - accuracy: 0.9324 - val_loss: 0.1786 - val_accuracy: 0.9207\n",
            "Epoch 78/300\n",
            "43/43 [==============================] - 231s 5s/step - loss: 0.1675 - accuracy: 0.9308 - val_loss: 0.1690 - val_accuracy: 0.9367\n",
            "Epoch 79/300\n",
            "43/43 [==============================] - 229s 5s/step - loss: 0.1583 - accuracy: 0.9344 - val_loss: 0.1834 - val_accuracy: 0.9183\n",
            "Epoch 80/300\n",
            "43/43 [==============================] - 230s 5s/step - loss: 0.1776 - accuracy: 0.9272 - val_loss: 0.1796 - val_accuracy: 0.9287\n",
            "Epoch 81/300\n",
            "43/43 [==============================] - 229s 5s/step - loss: 0.1622 - accuracy: 0.9343 - val_loss: 0.1860 - val_accuracy: 0.9239\n",
            "Epoch 82/300\n",
            "43/43 [==============================] - 233s 5s/step - loss: 0.1596 - accuracy: 0.9338 - val_loss: 0.1956 - val_accuracy: 0.9111\n",
            "Epoch 83/300\n",
            "43/43 [==============================] - 229s 5s/step - loss: 0.1678 - accuracy: 0.9291 - val_loss: 0.1621 - val_accuracy: 0.9351\n",
            "Epoch 84/300\n",
            "43/43 [==============================] - 228s 5s/step - loss: 0.1576 - accuracy: 0.9348 - val_loss: 0.1745 - val_accuracy: 0.9271\n",
            "Epoch 85/300\n",
            "43/43 [==============================] - 233s 5s/step - loss: 0.1481 - accuracy: 0.9379 - val_loss: 0.2061 - val_accuracy: 0.9167\n",
            "Epoch 86/300\n",
            "43/43 [==============================] - 241s 6s/step - loss: 0.1730 - accuracy: 0.9280 - val_loss: 0.1750 - val_accuracy: 0.9279\n",
            "Epoch 87/300\n",
            "43/43 [==============================] - 228s 5s/step - loss: 0.1629 - accuracy: 0.9320 - val_loss: 0.1463 - val_accuracy: 0.9431\n",
            "Epoch 88/300\n",
            "43/43 [==============================] - 226s 5s/step - loss: 0.1483 - accuracy: 0.9382 - val_loss: 0.1453 - val_accuracy: 0.9367\n",
            "Epoch 89/300\n",
            "43/43 [==============================] - 228s 5s/step - loss: 0.1507 - accuracy: 0.9412 - val_loss: 0.1638 - val_accuracy: 0.9287\n",
            "Epoch 90/300\n",
            "43/43 [==============================] - 228s 5s/step - loss: 0.1539 - accuracy: 0.9357 - val_loss: 0.1896 - val_accuracy: 0.9255\n",
            "Epoch 91/300\n",
            "43/43 [==============================] - 225s 5s/step - loss: 0.1561 - accuracy: 0.9359 - val_loss: 0.1574 - val_accuracy: 0.9271\n",
            "Epoch 92/300\n",
            "43/43 [==============================] - 232s 5s/step - loss: 0.1581 - accuracy: 0.9347 - val_loss: 0.1416 - val_accuracy: 0.9407\n",
            "Epoch 93/300\n",
            "43/43 [==============================] - 224s 5s/step - loss: 0.1617 - accuracy: 0.9319 - val_loss: 0.1640 - val_accuracy: 0.9375\n",
            "Epoch 94/300\n",
            "43/43 [==============================] - 228s 5s/step - loss: 0.1467 - accuracy: 0.9392 - val_loss: 0.1546 - val_accuracy: 0.9343\n",
            "Epoch 95/300\n",
            "43/43 [==============================] - 228s 5s/step - loss: 0.1540 - accuracy: 0.9367 - val_loss: 0.1784 - val_accuracy: 0.9239\n",
            "Epoch 96/300\n",
            "43/43 [==============================] - 231s 5s/step - loss: 0.1494 - accuracy: 0.9371 - val_loss: 0.1602 - val_accuracy: 0.9343\n",
            "Epoch 97/300\n",
            "43/43 [==============================] - 246s 6s/step - loss: 0.1553 - accuracy: 0.9357 - val_loss: 0.1391 - val_accuracy: 0.9463\n",
            "Epoch 98/300\n",
            "43/43 [==============================] - 249s 6s/step - loss: 0.1352 - accuracy: 0.9443 - val_loss: 0.1628 - val_accuracy: 0.9319\n",
            "Epoch 99/300\n",
            "43/43 [==============================] - 276s 6s/step - loss: 0.1558 - accuracy: 0.9369 - val_loss: 0.1558 - val_accuracy: 0.9399\n",
            "Epoch 100/300\n",
            "43/43 [==============================] - 235s 5s/step - loss: 0.1492 - accuracy: 0.9401 - val_loss: 0.1309 - val_accuracy: 0.9423\n",
            "Epoch 101/300\n",
            "43/43 [==============================] - 235s 5s/step - loss: 0.1450 - accuracy: 0.9390 - val_loss: 0.1309 - val_accuracy: 0.9375\n",
            "Epoch 102/300\n",
            "43/43 [==============================] - 240s 6s/step - loss: 0.1290 - accuracy: 0.9474 - val_loss: 0.1449 - val_accuracy: 0.9423\n",
            "Epoch 103/300\n",
            "43/43 [==============================] - 239s 6s/step - loss: 0.1339 - accuracy: 0.9459 - val_loss: 0.1532 - val_accuracy: 0.9359\n",
            "Epoch 104/300\n",
            "43/43 [==============================] - 235s 5s/step - loss: 0.1422 - accuracy: 0.9424 - val_loss: 0.1592 - val_accuracy: 0.9319\n",
            "Epoch 105/300\n",
            "43/43 [==============================] - 237s 6s/step - loss: 0.1537 - accuracy: 0.9378 - val_loss: 0.1678 - val_accuracy: 0.9375\n",
            "Epoch 106/300\n",
            "43/43 [==============================] - 244s 6s/step - loss: 0.1354 - accuracy: 0.9443 - val_loss: 0.1405 - val_accuracy: 0.9455\n",
            "Epoch 107/300\n",
            "43/43 [==============================] - 233s 5s/step - loss: 0.1363 - accuracy: 0.9445 - val_loss: 0.1617 - val_accuracy: 0.9375\n",
            "Epoch 108/300\n",
            "43/43 [==============================] - 240s 6s/step - loss: 0.1363 - accuracy: 0.9458 - val_loss: 0.1426 - val_accuracy: 0.9471\n",
            "Epoch 109/300\n",
            "43/43 [==============================] - 243s 6s/step - loss: 0.1371 - accuracy: 0.9416 - val_loss: 0.1574 - val_accuracy: 0.9319\n",
            "Epoch 110/300\n",
            "43/43 [==============================] - 244s 6s/step - loss: 0.1447 - accuracy: 0.9405 - val_loss: 0.1702 - val_accuracy: 0.9319\n",
            "Epoch 111/300\n",
            "43/43 [==============================] - 244s 6s/step - loss: 0.1241 - accuracy: 0.9490 - val_loss: 0.1616 - val_accuracy: 0.9311\n",
            "Epoch 112/300\n",
            "43/43 [==============================] - 226s 5s/step - loss: 0.1330 - accuracy: 0.9488 - val_loss: 0.1754 - val_accuracy: 0.9335\n",
            "Epoch 113/300\n",
            "43/43 [==============================] - 227s 5s/step - loss: 0.1350 - accuracy: 0.9428 - val_loss: 0.2112 - val_accuracy: 0.9215\n",
            "Epoch 114/300\n",
            "43/43 [==============================] - 224s 5s/step - loss: 0.1303 - accuracy: 0.9468 - val_loss: 0.1513 - val_accuracy: 0.9359\n",
            "Epoch 115/300\n",
            "43/43 [==============================] - 224s 5s/step - loss: 0.1256 - accuracy: 0.9497 - val_loss: 0.1615 - val_accuracy: 0.9423\n",
            "Epoch 116/300\n",
            "43/43 [==============================] - 231s 5s/step - loss: 0.1433 - accuracy: 0.9389 - val_loss: 0.1605 - val_accuracy: 0.9423\n",
            "Epoch 117/300\n",
            "43/43 [==============================] - 224s 5s/step - loss: 0.1385 - accuracy: 0.9444 - val_loss: 0.1519 - val_accuracy: 0.9383\n",
            "Epoch 118/300\n",
            "43/43 [==============================] - 227s 5s/step - loss: 0.1343 - accuracy: 0.9451 - val_loss: 0.1622 - val_accuracy: 0.9407\n",
            "Epoch 119/300\n",
            "43/43 [==============================] - 230s 5s/step - loss: 0.1277 - accuracy: 0.9475 - val_loss: 0.1336 - val_accuracy: 0.9463\n",
            "Epoch 120/300\n",
            "43/43 [==============================] - 237s 6s/step - loss: 0.1318 - accuracy: 0.9447 - val_loss: 0.1750 - val_accuracy: 0.9279\n",
            "Epoch 121/300\n",
            "43/43 [==============================] - 256s 6s/step - loss: 0.1340 - accuracy: 0.9460 - val_loss: 0.1536 - val_accuracy: 0.9327\n",
            "Epoch 122/300\n",
            "43/43 [==============================] - 227s 5s/step - loss: 0.1324 - accuracy: 0.9463 - val_loss: 0.1725 - val_accuracy: 0.9335\n",
            "Epoch 123/300\n",
            "43/43 [==============================] - 240s 6s/step - loss: 0.1362 - accuracy: 0.9441 - val_loss: 0.1329 - val_accuracy: 0.9519\n",
            "Epoch 124/300\n",
            "43/43 [==============================] - 225s 5s/step - loss: 0.1362 - accuracy: 0.9422 - val_loss: 0.1450 - val_accuracy: 0.9455\n",
            "Epoch 125/300\n",
            "43/43 [==============================] - 229s 5s/step - loss: 0.1328 - accuracy: 0.9466 - val_loss: 0.1686 - val_accuracy: 0.9287\n",
            "Epoch 126/300\n",
            "43/43 [==============================] - 228s 5s/step - loss: 0.1258 - accuracy: 0.9479 - val_loss: 0.1213 - val_accuracy: 0.9511\n",
            "Epoch 127/300\n",
            "43/43 [==============================] - 250s 6s/step - loss: 0.1345 - accuracy: 0.9444 - val_loss: 0.1857 - val_accuracy: 0.9303\n",
            "Epoch 128/300\n",
            "43/43 [==============================] - 243s 6s/step - loss: 0.1346 - accuracy: 0.9450 - val_loss: 0.1651 - val_accuracy: 0.9343\n",
            "Epoch 129/300\n",
            "43/43 [==============================] - 249s 6s/step - loss: 0.1287 - accuracy: 0.9459 - val_loss: 0.1434 - val_accuracy: 0.9407\n",
            "Epoch 130/300\n",
            "43/43 [==============================] - 237s 6s/step - loss: 0.1266 - accuracy: 0.9489 - val_loss: 0.1393 - val_accuracy: 0.9463\n",
            "Epoch 131/300\n",
            "43/43 [==============================] - 240s 6s/step - loss: 0.1255 - accuracy: 0.9487 - val_loss: 0.1737 - val_accuracy: 0.9271\n",
            "Epoch 132/300\n",
            "43/43 [==============================] - 262s 6s/step - loss: 0.1430 - accuracy: 0.9410 - val_loss: 0.1486 - val_accuracy: 0.9415\n",
            "Epoch 133/300\n",
            "43/43 [==============================] - 252s 6s/step - loss: 0.1242 - accuracy: 0.9474 - val_loss: 0.1330 - val_accuracy: 0.9391\n",
            "Epoch 134/300\n",
            "43/43 [==============================] - 247s 6s/step - loss: 0.1265 - accuracy: 0.9471 - val_loss: 0.1359 - val_accuracy: 0.9431\n",
            "Epoch 135/300\n",
            "43/43 [==============================] - 250s 6s/step - loss: 0.1188 - accuracy: 0.9540 - val_loss: 0.1425 - val_accuracy: 0.9447\n",
            "Epoch 136/300\n",
            "43/43 [==============================] - 235s 5s/step - loss: 0.1261 - accuracy: 0.9478 - val_loss: 0.1519 - val_accuracy: 0.9263\n",
            "Epoch 137/300\n",
            "43/43 [==============================] - 246s 6s/step - loss: 0.1328 - accuracy: 0.9475 - val_loss: 0.1660 - val_accuracy: 0.9311\n",
            "Epoch 138/300\n",
            "43/43 [==============================] - 259s 6s/step - loss: 0.1210 - accuracy: 0.9508 - val_loss: 0.1645 - val_accuracy: 0.9415\n",
            "Epoch 139/300\n",
            "43/43 [==============================] - 238s 6s/step - loss: 0.1246 - accuracy: 0.9493 - val_loss: 0.1292 - val_accuracy: 0.9543\n",
            "Epoch 140/300\n",
            "43/43 [==============================] - 240s 6s/step - loss: 0.1203 - accuracy: 0.9524 - val_loss: 0.1327 - val_accuracy: 0.9463\n",
            "Epoch 141/300\n",
            "43/43 [==============================] - 248s 6s/step - loss: 0.1294 - accuracy: 0.9480 - val_loss: 0.1407 - val_accuracy: 0.9383\n",
            "Epoch 142/300\n",
            "43/43 [==============================] - 268s 6s/step - loss: 0.1201 - accuracy: 0.9519 - val_loss: 0.1618 - val_accuracy: 0.9375\n",
            "Epoch 143/300\n",
            "43/43 [==============================] - 231s 5s/step - loss: 0.1209 - accuracy: 0.9504 - val_loss: 0.1327 - val_accuracy: 0.9383\n",
            "Epoch 144/300\n",
            "43/43 [==============================] - 230s 5s/step - loss: 0.1270 - accuracy: 0.9506 - val_loss: 0.1485 - val_accuracy: 0.9383\n",
            "Epoch 145/300\n",
            "43/43 [==============================] - 227s 5s/step - loss: 0.1169 - accuracy: 0.9528 - val_loss: 0.1514 - val_accuracy: 0.9399\n",
            "Epoch 146/300\n",
            "43/43 [==============================] - 225s 5s/step - loss: 0.1285 - accuracy: 0.9484 - val_loss: 0.1354 - val_accuracy: 0.9399\n",
            "Epoch 147/300\n",
            "43/43 [==============================] - 234s 5s/step - loss: 0.1226 - accuracy: 0.9509 - val_loss: 0.1705 - val_accuracy: 0.9295\n",
            "Epoch 148/300\n",
            "43/43 [==============================] - 230s 5s/step - loss: 0.1186 - accuracy: 0.9510 - val_loss: 0.1665 - val_accuracy: 0.9399\n",
            "Epoch 149/300\n",
            "43/43 [==============================] - 233s 5s/step - loss: 0.1163 - accuracy: 0.9528 - val_loss: 0.1559 - val_accuracy: 0.9343\n",
            "Epoch 150/300\n",
            "43/43 [==============================] - 232s 5s/step - loss: 0.1264 - accuracy: 0.9482 - val_loss: 0.1529 - val_accuracy: 0.9383\n",
            "Epoch 151/300\n",
            "43/43 [==============================] - 235s 5s/step - loss: 0.1175 - accuracy: 0.9499 - val_loss: 0.1322 - val_accuracy: 0.9479\n",
            "Epoch 152/300\n",
            "43/43 [==============================] - 231s 5s/step - loss: 0.1099 - accuracy: 0.9553 - val_loss: 0.1355 - val_accuracy: 0.9415\n",
            "Epoch 153/300\n",
            "43/43 [==============================] - 231s 5s/step - loss: 0.1190 - accuracy: 0.9532 - val_loss: 0.1369 - val_accuracy: 0.9487\n",
            "Epoch 154/300\n",
            "43/43 [==============================] - 243s 6s/step - loss: 0.1166 - accuracy: 0.9521 - val_loss: 0.1235 - val_accuracy: 0.9487\n",
            "Epoch 155/300\n",
            "43/43 [==============================] - 230s 5s/step - loss: 0.1157 - accuracy: 0.9538 - val_loss: 0.1315 - val_accuracy: 0.9415\n",
            "Epoch 156/300\n",
            "43/43 [==============================] - 229s 5s/step - loss: 0.1130 - accuracy: 0.9538 - val_loss: 0.1684 - val_accuracy: 0.9303\n",
            "Epoch 157/300\n",
            "43/43 [==============================] - 229s 5s/step - loss: 0.1105 - accuracy: 0.9550 - val_loss: 0.1470 - val_accuracy: 0.9383\n",
            "Epoch 158/300\n",
            "43/43 [==============================] - 230s 5s/step - loss: 0.1223 - accuracy: 0.9496 - val_loss: 0.1297 - val_accuracy: 0.9399\n",
            "Epoch 159/300\n",
            "43/43 [==============================] - 230s 5s/step - loss: 0.1177 - accuracy: 0.9531 - val_loss: 0.1645 - val_accuracy: 0.9343\n",
            "Epoch 160/300\n",
            "43/43 [==============================] - 229s 5s/step - loss: 0.1181 - accuracy: 0.9523 - val_loss: 0.1441 - val_accuracy: 0.9495\n",
            "Epoch 161/300\n",
            "43/43 [==============================] - 232s 5s/step - loss: 0.1083 - accuracy: 0.9552 - val_loss: 0.1252 - val_accuracy: 0.9519\n",
            "\n",
            "Reached 95.0% accuracy so cancelling training!\n",
            "\n",
            "Reached 95.0% valication accuracy so cancelling training!\n"
          ],
          "name": "stdout"
        }
      ]
    },
    {
      "cell_type": "code",
      "metadata": {
        "id": "MWZrJN4-65RC",
        "colab": {
          "base_uri": "https://localhost:8080/",
          "height": 562
        },
        "outputId": "4dad7484-676f-4929-d7b3-bc373c353bff"
      },
      "source": [
        "# PLOT LOSS AND ACCURACY\n",
        "%matplotlib inline\n",
        "\n",
        "import matplotlib.image  as mpimg\n",
        "import matplotlib.pyplot as plt\n",
        "\n",
        "#-----------------------------------------------------------\n",
        "# Retrieve a list of list results on training and test data\n",
        "# sets for each training epoch\n",
        "#-----------------------------------------------------------\n",
        "acc=history.history['accuracy']\n",
        "val_acc=history.history['val_accuracy']\n",
        "loss=history.history['loss']\n",
        "val_loss=history.history['val_loss']\n",
        "\n",
        "epochs=range(len(acc)) # Get number of epochs\n",
        "\n",
        "#------------------------------------------------\n",
        "# Plot training and validation accuracy per epoch\n",
        "#------------------------------------------------\n",
        "plt.plot(epochs, acc, 'r', \"Training Accuracy\")\n",
        "plt.plot(epochs, val_acc, 'b', \"Validation Accuracy\")\n",
        "plt.title('Training and validation accuracy')\n",
        "plt.figure()\n",
        "\n",
        "#------------------------------------------------\n",
        "# Plot training and validation loss per epoch\n",
        "#------------------------------------------------\n",
        "plt.plot(epochs, loss, 'r', \"Training Loss\")\n",
        "plt.plot(epochs, val_loss, 'b', \"Validation Loss\")\n",
        "\n",
        "\n",
        "plt.title('Training and validation loss')\n",
        "\n",
        "# Desired output. Charts with training and validation metrics. No crash :)"
      ],
      "execution_count": 18,
      "outputs": [
        {
          "output_type": "execute_result",
          "data": {
            "text/plain": [
              "Text(0.5, 1.0, 'Training and validation loss')"
            ]
          },
          "metadata": {
            "tags": []
          },
          "execution_count": 18
        },
        {
          "output_type": "display_data",
          "data": {
            "image/png": "[encoded data removed]",
            "text/plain": [
              "<Figure size 432x288 with 1 Axes>"
            ]
          },
          "metadata": {
            "tags": [],
            "needs_background": "light"
          }
        },
        {
          "output_type": "display_data",
          "data": {
            "image/png": "[encoded data removed]",
            "text/plain": [
              "<Figure size 432x288 with 1 Axes>"
            ]
          },
          "metadata": {
            "tags": [],
            "needs_background": "light"
          }
        }
      ]
    },
    {
      "cell_type": "code",
      "metadata": {
        "id": "LqL6FYUrtXpf",
        "colab": {
          "resources": {
            "http://localhost:8080/nbextensions/google.colab/files.js": {
              "data": "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",
              "ok": true,
              "headers": [
                [
                  "content-type",
                  "application/javascript"
                ]
              ],
              "status": 200,
              "status_text": ""
            }
          },
          "base_uri": "https://localhost:8080/",
          "height": 39
        },
        "outputId": "d881d303-aa1f-45b1-adda-351345fa3951"
      },
      "source": [
        "# Here's a codeblock just for fun. You should be able to upload an image here \n",
        "# and have it classified without crashing\n",
        "\n",
        "import numpy as np\n",
        "from google.colab import files\n",
        "from keras.preprocessing import image\n",
        "\n",
        "uploaded = files.upload()\n",
        "\n",
        "for fn in uploaded.keys():\n",
        " \n",
        "  # predicting images\n",
        "  path = '/content/' + fn\n",
        "  img = image.load_img(path, target_size=(150,150))\n",
        "  x = image.img_to_array(img)\n",
        "  x = np.expand_dims(x, axis=0)\n",
        "\n",
        "  images = np.vstack([x])\n",
        "  classes = model.predict(images, batch_size=10)\n",
        "  print(classes[0])\n",
        "  if classes[0]>0.5:\n",
        "    print(fn + \" is a dog\")\n",
        "  else:\n",
        "    print(fn + \" is a cat\")"
      ],
      "execution_count": null,
      "outputs": [
        {
          "output_type": "display_data",
          "data": {
            "text/html": [
              "\n",
              "     <input type=\"file\" id=\"files-61fb6192-7258-4773-9901-04a968a1d8e3\" name=\"files[]\" multiple disabled\n",
              "        style=\"border:none\" />\n",
              "     <output id=\"result-61fb6192-7258-4773-9901-04a968a1d8e3\">\n",
              "      Upload widget is only available when the cell has been executed in the\n",
              "      current browser session. Please rerun this cell to enable.\n",
              "      </output>\n",
              "      <script src=\"/nbextensions/google.colab/files.js\"></script> "
            ],
            "text/plain": [
              "<IPython.core.display.HTML object>"
            ]
          },
          "metadata": {
            "tags": []
          }
        }
      ]
    },
    {
      "cell_type": "code",
      "metadata": {
        "id": "TJt9E0SumdPE"
      },
      "source": [
        ""
      ],
      "execution_count": null,
      "outputs": []
    }
  ]
}